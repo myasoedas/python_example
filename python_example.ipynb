{
  "nbformat": 4,
  "nbformat_minor": 0,
  "metadata": {
    "colab": {
      "provenance": [],
      "authorship_tag": "ABX9TyNLOSyRbCtOcETDn6l/GynL",
      "include_colab_link": true
    },
    "kernelspec": {
      "name": "python3",
      "display_name": "Python 3"
    },
    "language_info": {
      "name": "python"
    }
  },
  "cells": [
    {
      "cell_type": "markdown",
      "metadata": {
        "id": "view-in-github",
        "colab_type": "text"
      },
      "source": [
        "<a href=\"https://colab.research.google.com/github/myasoedas/python_example/blob/%D1%81ollections_01/python_example.ipynb\" target=\"_parent\"><img src=\"https://colab.research.google.com/assets/colab-badge.svg\" alt=\"Open In Colab\"/></a>"
      ]
    },
    {
      "cell_type": "markdown",
      "source": [
        "#Упорядоченные коллекции"
      ],
      "metadata": {
        "id": "PIDbwUQbnb5z"
      }
    },
    {
      "cell_type": "markdown",
      "source": [
        "Строка - это упорядоченная коллекция текстовых символов типа str"
      ],
      "metadata": {
        "id": "n8IUmZC8iNeU"
      }
    },
    {
      "cell_type": "code",
      "execution_count": 10,
      "metadata": {
        "id": "G4KZi57FW_2L",
        "colab": {
          "base_uri": "https://localhost:8080/"
        },
        "outputId": "adf4cd1e-8200-4c57-e11e-ecf26b35d969"
      },
      "outputs": [
        {
          "output_type": "stream",
          "name": "stdout",
          "text": [
            "apple_str: <class 'str'>\n",
            "Количество символов в слове \"яблоко\": 6\n",
            "Количество символов в предложении \"Очень вкусные яблоки\": 20\n"
          ]
        }
      ],
      "source": [
        "# Объявляем переменную, присваиваем ей значение типа str:\n",
        "apple_str = 'яблоко'\n",
        "\n",
        "# Встроенная функция len() (от англ. length, «длина») возвращает\n",
        "# количество элементов в коллекции.\n",
        "how_many = len(apple_str)\n",
        "# Печатаем\n",
        "print('apple_str:', type(apple_str))\n",
        "print('Количество символов в слове \"яблоко\":', how_many)\n",
        "\n",
        "# Пробелы тоже учитываются, это тоже символы:\n",
        "print('Количество символов в предложении \"Очень вкусные яблоки\":', len('Очень вкусные яблоки'))"
      ]
    },
    {
      "cell_type": "markdown",
      "source": [
        "Список **list** - набор значений, логически связанных между собой"
      ],
      "metadata": {
        "id": "2jI6miURnsY5"
      }
    },
    {
      "cell_type": "code",
      "source": [
        "# Десять значений в отдельных переменных:\n",
        "apples_monday = 61\n",
        "apples_tuesday = 58\n",
        "apples_wednesday = 56\n",
        "apples_thursday = 34\n",
        "apples_friday = 67\n",
        "apples_saturday = 50\n",
        "apples_sunday = 74\n",
        "apples_monday_1 = 64\n",
        "apples_tuesday_1 = 78\n",
        "apples_wednesday_1 = 69\n",
        "\n",
        "# Десять значений в списке: одна переменная, в ней десять значений.\n",
        "apples_by_day = [61, 58, 56, 34, 67, 50, 74, 64, 78, 69]\n",
        "\n",
        "print(apples_by_day, type(apples_by_day))\n",
        "\n",
        "# Способы объявления списка  list\n",
        "digits = [1, 2, 3, 4, 5]\n",
        "fruits = ['яблоко', 'банан', 'вишня']\n",
        "\n",
        "# Можно объявить пустой список, а элементы в него добавлять по мере необходимости.\n",
        "empty = []  # Квадратные скобки - это объявление списка.\n",
        "\n",
        "letters = list('яблоко')  # Строка - это коллекция текстовых символов.\n",
        "# Строка будет преобразована в список символов:\n",
        "# ['я', 'б', 'л', 'о', 'к', 'о']\n",
        "\n",
        "# С помощью функции list() можно объявить и пустой список:\n",
        "another_empty = list()\n"
      ],
      "metadata": {
        "colab": {
          "base_uri": "https://localhost:8080/"
        },
        "id": "OvVR9csUn-N8",
        "outputId": "b447f747-d315-43df-f950-2dd07f825299"
      },
      "execution_count": 6,
      "outputs": [
        {
          "output_type": "stream",
          "name": "stdout",
          "text": [
            "[61, 58, 56, 34, 67, 50, 74, 64, 78, 69] <class 'list'>\n"
          ]
        }
      ]
    },
    {
      "cell_type": "markdown",
      "source": [
        "# Неупорядоченные коллекции\n",
        "\n",
        "Множество - это неупорядоченная коллекция уникальных лементов типа **set**"
      ],
      "metadata": {
        "id": "3z9G9yvbkF30"
      }
    },
    {
      "cell_type": "code",
      "source": [
        "# Объявляем переменную, присваиваем ей значение типа set\n",
        "any_chars = {'ч', 'е', 'п', 'у', 'х', 'а'}\n",
        "# Печатаем:\n",
        "print(any_chars)"
      ],
      "metadata": {
        "colab": {
          "base_uri": "https://localhost:8080/"
        },
        "id": "_7MsGcGnksOj",
        "outputId": "68eb94e1-9f6d-4f5d-a0a8-e3cb7e38eb0f"
      },
      "execution_count": 5,
      "outputs": [
        {
          "output_type": "stream",
          "name": "stdout",
          "text": [
            "{'е', 'а', 'ч', 'х', 'у', 'п'}\n"
          ]
        }
      ]
    }
  ]
}