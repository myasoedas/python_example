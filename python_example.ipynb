{
  "nbformat": 4,
  "nbformat_minor": 0,
  "metadata": {
    "colab": {
      "provenance": [],
      "authorship_tag": "ABX9TyOp/q+HzVEDG1I30CWG6AaX",
      "include_colab_link": true
    },
    "kernelspec": {
      "name": "python3",
      "display_name": "Python 3"
    },
    "language_info": {
      "name": "python"
    }
  },
  "cells": [
    {
      "cell_type": "markdown",
      "metadata": {
        "id": "view-in-github",
        "colab_type": "text"
      },
      "source": [
        "<a href=\"https://colab.research.google.com/github/myasoedas/python_example/blob/%D1%81ollections_01/python_example.ipynb\" target=\"_parent\"><img src=\"https://colab.research.google.com/assets/colab-badge.svg\" alt=\"Open In Colab\"/></a>"
      ]
    },
    {
      "cell_type": "markdown",
      "source": [
        "Строка - это упорядоченная коллекция типа str"
      ],
      "metadata": {
        "id": "n8IUmZC8iNeU"
      }
    },
    {
      "cell_type": "code",
      "execution_count": 1,
      "metadata": {
        "id": "G4KZi57FW_2L",
        "colab": {
          "base_uri": "https://localhost:8080/"
        },
        "outputId": "55ae24aa-8221-4e81-93bc-8345e627a653"
      },
      "outputs": [
        {
          "output_type": "stream",
          "name": "stdout",
          "text": [
            "Количество символов в слове \"яблоко\": 6\n",
            "Количество символов в предложении \"Очень вкусные яблоки\": 20\n"
          ]
        }
      ],
      "source": [
        "# Объявляем переменную, присваиваем ей значение типа str:\n",
        "apple_str = 'яблоко'\n",
        "\n",
        "# Встроенная функция len() (от англ. length, «длина») возвращает\n",
        "# количество элементов в коллекции.\n",
        "how_many = len(apple_str)\n",
        "# Печатаем\n",
        "print('Количество символов в слове \"яблоко\":', how_many)\n",
        "\n",
        "# Пробелы тоже учитываются, это тоже символы:\n",
        "print('Количество символов в предложении \"Очень вкусные яблоки\":', len('Очень вкусные яблоки'))"
      ]
    },
    {
      "cell_type": "code",
      "source": [],
      "metadata": {
        "id": "N3N_zi2-XBfU"
      },
      "execution_count": null,
      "outputs": []
    }
  ]
}